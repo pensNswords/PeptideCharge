{
 "cells": [
  {
   "cell_type": "code",
   "execution_count": 2,
   "metadata": {},
   "outputs": [
    {
     "name": "stdout",
     "output_type": "stream",
     "text": [
      "{'Amino Acid': 'Valine', 'Abbreviation': 'Val', 'One-Letter Code': 'V', 'Molar Mass': 117.148, 'Amino Acid pI': 5.96, 'General Attributes': 'Non-Polar, Hydrophobic, Aliphatic, Essential'}\n"
     ]
    }
   ],
   "source": [
    "# Get General Information about the amino acid\n",
    "import NetCharge\n",
    "print(NetCharge.aa_info(\"V\")) #Amino acid Valine"
   ]
  },
  {
   "cell_type": "code",
   "execution_count": 3,
   "metadata": {},
   "outputs": [
    {
     "data": {
      "text/plain": [
       "-0.012715180239808777"
      ]
     },
     "execution_count": 3,
     "metadata": {},
     "output_type": "execute_result"
    }
   ],
   "source": [
    "#Charge of an amino acid\n",
    "import NetCharge\n",
    "NetCharge.chain_net_charge(chain = [\"A\"], ph = 7.8)"
   ]
  },
  {
   "cell_type": "code",
   "execution_count": 5,
   "metadata": {},
   "outputs": [
    {
     "name": "stdout",
     "output_type": "stream",
     "text": [
      "-0.30693584244660677\n",
      "-0.30693584244660677\n",
      "-1.0479555916085672\n"
     ]
    }
   ],
   "source": [
    "# Net Charge of Amino acid sequence / peptide\n",
    "\n",
    "import NetCharge\n",
    "print(NetCharge.chain_net_charge(chain = \"AVC\", ph = 7.8))\n",
    "print(NetCharge.chain_net_charge(chain = [\"A\", \"V\", \"C\"], ph = 7.8))\n",
    "\n",
    "print(NetCharge.chain_net_charge(\n",
    "    chain= \"GFGKRRHPKKLTPLAYKQFIPNVAEKTLGASGRYEGKISRNSERFKELTPNYNPDIIFKDEENTGADRLMTQRCKDKLNALAISVMNQWPGVKLRVTEGWDEDGHHSEESLHYEGRAVDITTSDRDRSKYGMLARLAVEAGFDWVYYESKAHIHCSVKAENSVAAKSGG\",\n",
    "    ph = 9.3)) #Sonic Hedhegog Chain C"
   ]
  }
 ],
 "metadata": {
  "kernelspec": {
   "display_name": "working",
   "language": "python",
   "name": "python3"
  },
  "language_info": {
   "codemirror_mode": {
    "name": "ipython",
    "version": 3
   },
   "file_extension": ".py",
   "mimetype": "text/x-python",
   "name": "python",
   "nbconvert_exporter": "python",
   "pygments_lexer": "ipython3",
   "version": "3.9.12"
  }
 },
 "nbformat": 4,
 "nbformat_minor": 2
}
